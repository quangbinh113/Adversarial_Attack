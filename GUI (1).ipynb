{
  "nbformat": 4,
  "nbformat_minor": 0,
  "metadata": {
    "colab": {
      "provenance": [],
      "gpuType": "T4"
    },
    "kernelspec": {
      "name": "python3",
      "display_name": "Python 3"
    },
    "language_info": {
      "name": "python"
    },
    "accelerator": "GPU"
  },
  "cells": [
    {
      "cell_type": "code",
      "execution_count": null,
      "metadata": {
        "colab": {
          "base_uri": "https://localhost:8080/"
        },
        "id": "O2cS5TI2LpTb",
        "outputId": "1074bfe3-91e7-4266-923c-4193064e8a5d"
      },
      "outputs": [
        {
          "output_type": "stream",
          "name": "stdout",
          "text": [
            "\u001b[2K     \u001b[90m━━━━━━━━━━━━━━━━━━━━━━━━━━━━━━━━━━━━━━━━\u001b[0m \u001b[32m8.1/8.1 MB\u001b[0m \u001b[31m23.1 MB/s\u001b[0m eta \u001b[36m0:00:00\u001b[0m\n",
            "\u001b[2K     \u001b[90m━━━━━━━━━━━━━━━━━━━━━━━━━━━━━━━━━━━━━━━\u001b[0m \u001b[32m164.8/164.8 kB\u001b[0m \u001b[31m8.1 MB/s\u001b[0m eta \u001b[36m0:00:00\u001b[0m\n",
            "\u001b[?25h  Preparing metadata (setup.py) ... \u001b[?25l\u001b[?25hdone\n",
            "\u001b[2K     \u001b[90m━━━━━━━━━━━━━━━━━━━━━━━━━━━━━━━━━━━━━━━\u001b[0m \u001b[32m188.5/188.5 kB\u001b[0m \u001b[31m7.9 MB/s\u001b[0m eta \u001b[36m0:00:00\u001b[0m\n",
            "\u001b[2K     \u001b[90m━━━━━━━━━━━━━━━━━━━━━━━━━━━━━━━━━━━━━━━━\u001b[0m \u001b[32m4.7/4.7 MB\u001b[0m \u001b[31m41.2 MB/s\u001b[0m eta \u001b[36m0:00:00\u001b[0m\n",
            "\u001b[2K     \u001b[90m━━━━━━━━━━━━━━━━━━━━━━━━━━━━━━━━━━━━━━━━\u001b[0m \u001b[32m82.1/82.1 kB\u001b[0m \u001b[31m2.9 MB/s\u001b[0m eta \u001b[36m0:00:00\u001b[0m\n",
            "\u001b[2K     \u001b[90m━━━━━━━━━━━━━━━━━━━━━━━━━━━━━━━━━━━━━━━━\u001b[0m \u001b[32m62.7/62.7 kB\u001b[0m \u001b[31m2.5 MB/s\u001b[0m eta \u001b[36m0:00:00\u001b[0m\n",
            "\u001b[2K     \u001b[90m━━━━━━━━━━━━━━━━━━━━━━━━━━━━━━━━━━━━━━━\u001b[0m \u001b[32m341.8/341.8 kB\u001b[0m \u001b[31m9.6 MB/s\u001b[0m eta \u001b[36m0:00:00\u001b[0m\n",
            "\u001b[?25h  Building wheel for validators (setup.py) ... \u001b[?25l\u001b[?25hdone\n",
            "\u001b[2K     \u001b[90m━━━━━━━━━━━━━━━━━━━━━━━━━━━━━━━━━━━━━━━\u001b[0m \u001b[32m953.0/953.0 kB\u001b[0m \u001b[31m8.6 MB/s\u001b[0m eta \u001b[36m0:00:00\u001b[0m\n",
            "\u001b[K\u001b[?25h\u001b[37;40mnpm\u001b[0m \u001b[0m\u001b[30;43mWARN\u001b[0m \u001b[0m\u001b[35msaveError\u001b[0m ENOENT: no such file or directory, open '/content/package.json'\n",
            "\u001b[0m\u001b[37;40mnpm\u001b[0m \u001b[0m\u001b[34;40mnotice\u001b[0m\u001b[35m\u001b[0m created a lockfile as package-lock.json. You should commit this file.\n",
            "\u001b[0m\u001b[37;40mnpm\u001b[0m \u001b[0m\u001b[30;43mWARN\u001b[0m \u001b[0m\u001b[35menoent\u001b[0m ENOENT: no such file or directory, open '/content/package.json'\n",
            "\u001b[0m\u001b[37;40mnpm\u001b[0m \u001b[0m\u001b[30;43mWARN\u001b[0m\u001b[35m\u001b[0m content No description\n",
            "\u001b[0m\u001b[37;40mnpm\u001b[0m \u001b[0m\u001b[30;43mWARN\u001b[0m\u001b[35m\u001b[0m content No repository field.\n",
            "\u001b[0m\u001b[37;40mnpm\u001b[0m \u001b[0m\u001b[30;43mWARN\u001b[0m\u001b[35m\u001b[0m content No README data\n",
            "\u001b[0m\u001b[37;40mnpm\u001b[0m \u001b[0m\u001b[30;43mWARN\u001b[0m\u001b[35m\u001b[0m content No license field.\n",
            "\u001b[0m\n",
            "+ localtunnel@2.0.2\n",
            "added 22 packages from 22 contributors and audited 22 packages in 2.988s\n",
            "\n",
            "3 packages are looking for funding\n",
            "  run `npm fund` for details\n",
            "\n",
            "found \u001b[92m0\u001b[0m vulnerabilities\n",
            "\n",
            "\u001b[K\u001b[?25hCloning into 'CV20222_Adversarial_Attack'...\n",
            "remote: Enumerating objects: 175, done.\u001b[K\n",
            "remote: Counting objects: 100% (57/57), done.\u001b[K\n",
            "remote: Compressing objects: 100% (46/46), done.\u001b[K\n",
            "remote: Total 175 (delta 22), reused 32 (delta 9), pack-reused 118\u001b[K\n",
            "Receiving objects: 100% (175/175), 78.36 MiB | 11.47 MiB/s, done.\n",
            "Resolving deltas: 100% (62/62), done.\n",
            "Cloning into 'yolov5'...\n",
            "remote: Enumerating objects: 15814, done.\u001b[K\n",
            "remote: Counting objects: 100% (46/46), done.\u001b[K\n",
            "remote: Compressing objects: 100% (44/44), done.\u001b[K\n",
            "remote: Total 15814 (delta 10), reused 25 (delta 2), pack-reused 15768\u001b[K\n",
            "Receiving objects: 100% (15814/15814), 14.64 MiB | 14.36 MiB/s, done.\n",
            "Resolving deltas: 100% (10819/10819), done.\n",
            "Requirement already satisfied: gdown in /usr/local/lib/python3.10/dist-packages (4.6.6)\n",
            "Requirement already satisfied: filelock in /usr/local/lib/python3.10/dist-packages (from gdown) (3.12.2)\n",
            "Requirement already satisfied: requests[socks] in /usr/local/lib/python3.10/dist-packages (from gdown) (2.27.1)\n",
            "Requirement already satisfied: six in /usr/local/lib/python3.10/dist-packages (from gdown) (1.16.0)\n",
            "Requirement already satisfied: tqdm in /usr/local/lib/python3.10/dist-packages (from gdown) (4.65.0)\n",
            "Requirement already satisfied: beautifulsoup4 in /usr/local/lib/python3.10/dist-packages (from gdown) (4.11.2)\n",
            "Requirement already satisfied: soupsieve>1.2 in /usr/local/lib/python3.10/dist-packages (from beautifulsoup4->gdown) (2.4.1)\n",
            "Requirement already satisfied: urllib3<1.27,>=1.21.1 in /usr/local/lib/python3.10/dist-packages (from requests[socks]->gdown) (1.26.16)\n",
            "Requirement already satisfied: certifi>=2017.4.17 in /usr/local/lib/python3.10/dist-packages (from requests[socks]->gdown) (2023.5.7)\n",
            "Requirement already satisfied: charset-normalizer~=2.0.0 in /usr/local/lib/python3.10/dist-packages (from requests[socks]->gdown) (2.0.12)\n",
            "Requirement already satisfied: idna<4,>=2.5 in /usr/local/lib/python3.10/dist-packages (from requests[socks]->gdown) (3.4)\n",
            "Requirement already satisfied: PySocks!=1.5.7,>=1.5.6 in /usr/local/lib/python3.10/dist-packages (from requests[socks]->gdown) (1.7.1)\n",
            "Collecting ultralytics\n",
            "  Downloading ultralytics-8.0.140-py3-none-any.whl (606 kB)\n",
            "\u001b[2K     \u001b[90m━━━━━━━━━━━━━━━━━━━━━━━━━━━━━━━━━━━━━━━\u001b[0m \u001b[32m606.6/606.6 kB\u001b[0m \u001b[31m6.9 MB/s\u001b[0m eta \u001b[36m0:00:00\u001b[0m\n",
            "\u001b[?25hRequirement already satisfied: matplotlib>=3.2.2 in /usr/local/lib/python3.10/dist-packages (from ultralytics) (3.7.1)\n",
            "Requirement already satisfied: opencv-python>=4.6.0 in /usr/local/lib/python3.10/dist-packages (from ultralytics) (4.7.0.72)\n",
            "Requirement already satisfied: Pillow>=7.1.2 in /usr/local/lib/python3.10/dist-packages (from ultralytics) (8.4.0)\n",
            "Requirement already satisfied: PyYAML>=5.3.1 in /usr/local/lib/python3.10/dist-packages (from ultralytics) (6.0.1)\n",
            "Requirement already satisfied: requests>=2.23.0 in /usr/local/lib/python3.10/dist-packages (from ultralytics) (2.27.1)\n",
            "Requirement already satisfied: scipy>=1.4.1 in /usr/local/lib/python3.10/dist-packages (from ultralytics) (1.10.1)\n",
            "Requirement already satisfied: torch>=1.7.0 in /usr/local/lib/python3.10/dist-packages (from ultralytics) (2.0.1+cu118)\n",
            "Requirement already satisfied: torchvision>=0.8.1 in /usr/local/lib/python3.10/dist-packages (from ultralytics) (0.15.2+cu118)\n",
            "Requirement already satisfied: tqdm>=4.64.0 in /usr/local/lib/python3.10/dist-packages (from ultralytics) (4.65.0)\n",
            "Requirement already satisfied: pandas>=1.1.4 in /usr/local/lib/python3.10/dist-packages (from ultralytics) (1.5.3)\n",
            "Requirement already satisfied: seaborn>=0.11.0 in /usr/local/lib/python3.10/dist-packages (from ultralytics) (0.12.2)\n",
            "Requirement already satisfied: psutil in /usr/local/lib/python3.10/dist-packages (from ultralytics) (5.9.5)\n",
            "Requirement already satisfied: contourpy>=1.0.1 in /usr/local/lib/python3.10/dist-packages (from matplotlib>=3.2.2->ultralytics) (1.1.0)\n",
            "Requirement already satisfied: cycler>=0.10 in /usr/local/lib/python3.10/dist-packages (from matplotlib>=3.2.2->ultralytics) (0.11.0)\n",
            "Requirement already satisfied: fonttools>=4.22.0 in /usr/local/lib/python3.10/dist-packages (from matplotlib>=3.2.2->ultralytics) (4.41.0)\n",
            "Requirement already satisfied: kiwisolver>=1.0.1 in /usr/local/lib/python3.10/dist-packages (from matplotlib>=3.2.2->ultralytics) (1.4.4)\n",
            "Requirement already satisfied: numpy>=1.20 in /usr/local/lib/python3.10/dist-packages (from matplotlib>=3.2.2->ultralytics) (1.22.4)\n",
            "Requirement already satisfied: packaging>=20.0 in /usr/local/lib/python3.10/dist-packages (from matplotlib>=3.2.2->ultralytics) (23.1)\n",
            "Requirement already satisfied: pyparsing>=2.3.1 in /usr/local/lib/python3.10/dist-packages (from matplotlib>=3.2.2->ultralytics) (3.1.0)\n",
            "Requirement already satisfied: python-dateutil>=2.7 in /usr/local/lib/python3.10/dist-packages (from matplotlib>=3.2.2->ultralytics) (2.8.2)\n",
            "Requirement already satisfied: pytz>=2020.1 in /usr/local/lib/python3.10/dist-packages (from pandas>=1.1.4->ultralytics) (2022.7.1)\n",
            "Requirement already satisfied: urllib3<1.27,>=1.21.1 in /usr/local/lib/python3.10/dist-packages (from requests>=2.23.0->ultralytics) (1.26.16)\n",
            "Requirement already satisfied: certifi>=2017.4.17 in /usr/local/lib/python3.10/dist-packages (from requests>=2.23.0->ultralytics) (2023.5.7)\n",
            "Requirement already satisfied: charset-normalizer~=2.0.0 in /usr/local/lib/python3.10/dist-packages (from requests>=2.23.0->ultralytics) (2.0.12)\n",
            "Requirement already satisfied: idna<4,>=2.5 in /usr/local/lib/python3.10/dist-packages (from requests>=2.23.0->ultralytics) (3.4)\n",
            "Requirement already satisfied: filelock in /usr/local/lib/python3.10/dist-packages (from torch>=1.7.0->ultralytics) (3.12.2)\n",
            "Requirement already satisfied: typing-extensions in /usr/local/lib/python3.10/dist-packages (from torch>=1.7.0->ultralytics) (4.7.1)\n",
            "Requirement already satisfied: sympy in /usr/local/lib/python3.10/dist-packages (from torch>=1.7.0->ultralytics) (1.11.1)\n",
            "Requirement already satisfied: networkx in /usr/local/lib/python3.10/dist-packages (from torch>=1.7.0->ultralytics) (3.1)\n",
            "Requirement already satisfied: jinja2 in /usr/local/lib/python3.10/dist-packages (from torch>=1.7.0->ultralytics) (3.1.2)\n",
            "Requirement already satisfied: triton==2.0.0 in /usr/local/lib/python3.10/dist-packages (from torch>=1.7.0->ultralytics) (2.0.0)\n",
            "Requirement already satisfied: cmake in /usr/local/lib/python3.10/dist-packages (from triton==2.0.0->torch>=1.7.0->ultralytics) (3.25.2)\n",
            "Requirement already satisfied: lit in /usr/local/lib/python3.10/dist-packages (from triton==2.0.0->torch>=1.7.0->ultralytics) (16.0.6)\n",
            "Requirement already satisfied: six>=1.5 in /usr/local/lib/python3.10/dist-packages (from python-dateutil>=2.7->matplotlib>=3.2.2->ultralytics) (1.16.0)\n",
            "Requirement already satisfied: MarkupSafe>=2.0 in /usr/local/lib/python3.10/dist-packages (from jinja2->torch>=1.7.0->ultralytics) (2.1.3)\n",
            "Requirement already satisfied: mpmath>=0.19 in /usr/local/lib/python3.10/dist-packages (from sympy->torch>=1.7.0->ultralytics) (1.3.0)\n",
            "Installing collected packages: ultralytics\n",
            "Successfully installed ultralytics-8.0.140\n"
          ]
        }
      ],
      "source": [
        "!pip install -q streamlit\n",
        "!pip install -q streamlit_cropper\n",
        "!npm install localtunnel\n",
        "!git clone https://github.com/quangbinh113/CV20222_Adversarial_Attack.git\n",
        "!git clone https://github.com/ultralytics/yolov5.git\n",
        "!pip install gdown\n",
        "!pip install ultralytics\n",
        "# %cd yolov5"
      ]
    },
    {
      "cell_type": "code",
      "source": [
        "!gdown 1b10veNEl4LDnjsaODdsa90D2r4ztoT9h\n",
        "!gdown 1FgVozWlrhPHoPQ47pW4cUXEBnezU7QzL"
      ],
      "metadata": {
        "colab": {
          "base_uri": "https://localhost:8080/"
        },
        "id": "KZDKD8GULhE8",
        "outputId": "0cd0fc92-50bf-4e24-f006-a748a1e816bd"
      },
      "execution_count": null,
      "outputs": [
        {
          "output_type": "stream",
          "name": "stdout",
          "text": [
            "Downloading...\n",
            "From: https://drive.google.com/uc?id=1b10veNEl4LDnjsaODdsa90D2r4ztoT9h\n",
            "To: /content/best_v1.pt\n",
            "100% 14.4M/14.4M [00:00<00:00, 106MB/s] \n",
            "Downloading...\n",
            "From: https://drive.google.com/uc?id=1FgVozWlrhPHoPQ47pW4cUXEBnezU7QzL\n",
            "To: /content/best_noise.pt\n",
            "100% 56.7M/56.7M [00:00<00:00, 90.4MB/s]\n"
          ]
        }
      ]
    },
    {
      "cell_type": "code",
      "source": [
        "import os\n",
        "os.makedirs('data', exist_ok = True)"
      ],
      "metadata": {
        "id": "Dpmu5viXzmWX"
      },
      "execution_count": null,
      "outputs": []
    },
    {
      "cell_type": "code",
      "source": [
        "%%writefile /content/app.py\n",
        "\n",
        "import streamlit as st\n",
        "import numpy as np\n",
        "from streamlit_cropper import st_cropper\n",
        "from PIL import Image\n",
        "import cv2\n",
        "import shutil\n",
        "import os\n",
        "\n",
        "st.set_option('deprecation.showfileUploaderEncoding', False)\n",
        "\n",
        "# Upload an image and set some options for demo purposes\n",
        "st.header(\"Face Defender\")\n",
        "img_file = st.sidebar.file_uploader(label = 'Upload a file', type = ['png', 'jpg'])\n",
        "realtime_update = st.sidebar.checkbox(label = \"Update in Real Time\", value=True)\n",
        "box_color = st.sidebar.color_picker(label = \"Box Color\", value='#0000FF')\n",
        "\n",
        "# aspect_choice = st.sidebar.radio(label=\"Aspect Ratio\", options=[\"1:1\", \"16:9\", \"4:3\", \"2:3\", \"Free\"])\n",
        "# aspect_dict = {\n",
        "#     \"1:1\": (1, 1),\n",
        "#     \"16:9\": (16, 9),\n",
        "#     \"4:3\": (4, 3),\n",
        "#     \"2:3\": (2, 3),\n",
        "#     \"Free\": None\n",
        "# }\n",
        "# aspect_ratio = aspect_dict[aspect_choice]\n",
        "\n",
        "# return_type_choice = st.sidebar.radio(label = \"Return type\", options = [\"Cropped image\", \"Rect coords\"])\n",
        "# return_type_dict = {\n",
        "#     \"Cropped image\": \"image\",\n",
        "#     \"Rect coords\": \"box\"\n",
        "# }\n",
        "# return_type = return_type_dict[return_type_choice]\n",
        "\n",
        "if 'count' not in st.session_state:\n",
        "  st.session_state['count'] = 1\n",
        "\n",
        "if img_file:\n",
        "    img = Image.open(img_file)\n",
        "    # for i in range(3):\n",
        "    cols_1 = st.columns(2)\n",
        "    img.save('/content/data/00002.jpg')\n",
        "    os.system('python /content/yolov5/detect.py --source /content/data/00002.jpg --weights /content/best_v1.pt')\n",
        "    cols_1[0].image(img, caption = 'Before attack')\n",
        "    if st.session_state.count == 1:\n",
        "      cols_1[1].image(Image.open(f'/content/yolov5/runs/detect/exp/00002.jpg'), caption = 'Detection result')\n",
        "    else:\n",
        "      cols_1[1].image(Image.open(f'/content/yolov5/runs/detect/exp{st.session_state.count}/00002.jpg'), 'Detection result')\n",
        "    st.session_state.count += 1\n",
        "    os.system('python /content/CV20222_Adversarial_Attack/AttacksAdversarial/inference.py')\n",
        "\n",
        "    img_noise = Image.open('/content/data/attack_image/0.jpg')\n",
        "    cols_2 = st.columns(2)\n",
        "    cols_2[0].image(img_noise, caption = 'After attack')\n",
        "    os.system('python /content/yolov5/detect.py --source /content/data/attack_image/0.jpg --weights /content/best_v1.pt')\n",
        "    cols_2[1].image(Image.open(f'/content/yolov5/runs/detect/exp{st.session_state.count}/0.jpg'), 'Detection result')\n",
        "    st.session_state.count += 1\n",
        "\n",
        "    cols_2[0].image(img_noise, caption = 'After defense by adversarial training')\n",
        "    os.system('python /content/yolov5/detect.py --source /content/data/attack_image/0.jpg --weights /content/best_noise.pt')\n",
        "    cols_2[1].image(Image.open(f'/content/yolov5/runs/detect/exp{st.session_state.count}/0.jpg'), 'Detection result')\n",
        "    st.session_state.count += 1\n",
        "\n",
        "\n",
        "    os.system('python /content/CV20222_Adversarial_Attack/AdversarialDefense/src/DenoiseSRGAN/test_only.py --device cpu --n_blocks 5 --batch_size 64 --num_workers 0 --save_dir /content/ --input_dir /content/data/00002.jpg --model_dir /content/CV20222_Adversarial_Attack/AdversarialDefense/models/Generator.pth')\n",
        "    cols_3 = st.columns(2)\n",
        "    img_denoised = Image.open('/content/denoised.png')\n",
        "    cols_3[0] = st.image(img_denoised, 'After defense by adversarial training (SRGAN)')\n",
        "    os.system('python /content/yolov5/detect.py --source /content/denoised.png --weights /content/best_noise.pt')\n",
        "    cols_3[1].image(Image.open(f'/content/yolov5/runs/detect/exp{st.session_state.count}/denoised.png'), 'Detection result')\n",
        "    st.session_state.count += 1\n",
        "\n",
        "    shutil.rmtree('/content/data/attack_image')\n",
        "    # img = Image.open(img_file)\n",
        "    # if not realtime_update:\n",
        "    #     st.write(\"Double click to save crop\")\n",
        "    # if return_type == 'box':\n",
        "    #     rect = st_cropper(\n",
        "    #         img,\n",
        "    #         realtime_update=realtime_update,\n",
        "    #         box_color=box_color,\n",
        "    #         aspect_ratio=aspect_ratio,\n",
        "    #         return_type=return_type\n",
        "    #     )\n",
        "    #     raw_image = np.asarray(img).astype('uint8')\n",
        "    #     left, top, width, height = tuple(map(int, rect.values()))\n",
        "    #     st.write(rect)\n",
        "    #     masked_image = np.zeros(raw_image.shape, dtype='uint8')\n",
        "    #     masked_image[top:top + height, left:left + width] = raw_image[top:top + height, left:left + width]\n",
        "    #     st.image(Image.fromarray(masked_image), caption='masked image')\n",
        "    # else:\n",
        "    #     # Get a cropped image from the frontend\n",
        "    #     cropped_img = st_cropper(\n",
        "    #         img,\n",
        "    #         realtime_update=realtime_update,\n",
        "    #         box_color=box_color,\n",
        "    #         aspect_ratio=aspect_ratio,\n",
        "    #         return_type=return_type\n",
        "    #     )\n",
        "\n",
        "    #     # Manipulate cropped image at will\n",
        "    #     st.write(\"Preview\")\n",
        "    #     _ = cropped_img.thumbnail((150, 150))\n",
        "    #     st.image(cropped_img)"
      ],
      "metadata": {
        "id": "AzOLAQTLN-75",
        "colab": {
          "base_uri": "https://localhost:8080/"
        },
        "outputId": "cda9c963-ea9a-463c-ba30-4227c05438e6"
      },
      "execution_count": null,
      "outputs": [
        {
          "output_type": "stream",
          "name": "stdout",
          "text": [
            "Overwriting /content/app.py\n"
          ]
        }
      ]
    },
    {
      "cell_type": "code",
      "source": [
        "!streamlit run /content/app.py &>/content/logs.txt & npx localtunnel --port 8501 & curl ipv4.icanhazip.com"
      ],
      "metadata": {
        "id": "9uj_6WQRORvX",
        "colab": {
          "base_uri": "https://localhost:8080/"
        },
        "outputId": "0ecd997b-9def-4e9b-ab8d-2980b0cc7358"
      },
      "execution_count": null,
      "outputs": [
        {
          "output_type": "stream",
          "name": "stdout",
          "text": [
            "34.91.255.88\n",
            "\u001b[K\u001b[?25hnpx: installed 22 in 4.394s\n",
            "your url is: https://rare-experts-drive.loca.lt\n"
          ]
        }
      ]
    },
    {
      "cell_type": "code",
      "source": [
        "!rm -r /content/yolov5/runs/detect"
      ],
      "metadata": {
        "id": "pisuaJmr963Y"
      },
      "execution_count": null,
      "outputs": []
    },
    {
      "cell_type": "code",
      "source": [
        "os.system('python /content/CV20222_Adversarial_Attack/AttacksAdversarial/inference.py')"
      ],
      "metadata": {
        "id": "cxNb42A8hZ9r",
        "colab": {
          "base_uri": "https://localhost:8080/"
        },
        "outputId": "a8ebe85a-b34b-420c-b59b-24702d09104d"
      },
      "execution_count": null,
      "outputs": [
        {
          "output_type": "execute_result",
          "data": {
            "text/plain": [
              "0"
            ]
          },
          "metadata": {},
          "execution_count": 9
        }
      ]
    },
    {
      "cell_type": "code",
      "source": [
        "!python /content/CV20222_Adversarial_Attack/AttacksAdversarial/inference.py"
      ],
      "metadata": {
        "colab": {
          "base_uri": "https://localhost:8080/"
        },
        "id": "B088xIaU004c",
        "outputId": "2d13e850-0ed4-4248-a752-72e7546fe70e"
      },
      "execution_count": null,
      "outputs": [
        {
          "output_type": "stream",
          "name": "stdout",
          "text": [
            "Testing Image: 00002.jpg\t(1/1)\n",
            "0/1 attacks succeeded with epsilon=16. Continuing...\n",
            "0/1 attacks succeeded with epsilon=32. Continuing...\n",
            "0/1 attacks succeeded with epsilon=48. Continuing...\n",
            "0/1 attacks succeeded with epsilon=64. Continuing...\n",
            "0/1 attacks succeeded with epsilon=80. Continuing...\n",
            "0/1 attacks succeeded with epsilon=96. Continuing...\n",
            "0/1 attacks succeeded with epsilon=112. Continuing...\n",
            "0/1 attacks succeeded with epsilon=128. Continuing...\n",
            "0/1 attacks succeeded with epsilon=144. Continuing...\n",
            "0/1 attacks succeeded with epsilon=160. Continuing...\n",
            "Attack succeeded at least 80.0% of the time with epsilon: 176\n",
            "/content/CV20222_Adversarial_Attack/AttacksAdversarial/inference.py:109: FutureWarning: `multichannel` is a deprecated argument name for `structural_similarity`. It will be removed in version 1.0. Please use `channel_axis` instead.\n",
            "  ssim_avg += ssim(img,\n"
          ]
        }
      ]
    },
    {
      "cell_type": "code",
      "source": [
        "!python /content/CV20222_Adversarial_Attack/AdversarialDefense/src/DenoiseSRGAN/test_only.py --device cpu --n_blocks 5 --batch_size 64 --num_workers 0 --save_dir /content/ --input_dir /content/data/00002.jpg --model_dir /content/CV20222_Adversarial_Attack/models/Generator.pth"
      ],
      "metadata": {
        "id": "wnWT-WpZ2y0U"
      },
      "execution_count": null,
      "outputs": []
    },
    {
      "cell_type": "code",
      "source": [],
      "metadata": {
        "id": "pLfQdwO528eU"
      },
      "execution_count": null,
      "outputs": []
    }
  ]
}